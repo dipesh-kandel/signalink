{
 "cells": [
  {
   "cell_type": "code",
   "execution_count": 13,
   "metadata": {},
   "outputs": [
    {
     "name": "stdout",
     "output_type": "stream",
     "text": [
      "Images converted and appended to the CSV file successfully.\n"
     ]
    }
   ],
   "source": [
    "import cv2\n",
    "import os\n",
    "\n",
    "IMG_DIR = \"D:\\mnist\\imageYes28Test\"\n",
    "IMAGE_SIZE = (28, 28)\n",
    "EXISTING_CSV_FILE = 'D:\\mnist\\image28Test.csv'\n",
    "\n",
    "# Check if the existing CSV file exists\n",
    "if not os.path.exists(EXISTING_CSV_FILE):\n",
    "    # If it doesn't exist, create a new CSV file with the header\n",
    "    with open(EXISTING_CSV_FILE, 'w') as f:\n",
    "        header = [\"Label\"] + [f\"Pixel_{i}\" for i in range(1, IMAGE_SIZE[0]*IMAGE_SIZE[1] + 1)]\n",
    "        f.write(\",\".join(header) + \"\\n\")\n",
    "    mode = 'a'\n",
    "else:\n",
    "    # If it exists, proceed with appending to it\n",
    "    mode = 'a'\n",
    "\n",
    "with open(EXISTING_CSV_FILE, mode) as f:  \n",
    "    # Iterate over images in the directory\n",
    "    for img in os.listdir(IMG_DIR):\n",
    "        img_array = cv2.imread(os.path.join(IMG_DIR, img), cv2.IMREAD_GRAYSCALE)\n",
    "        \n",
    "        # Resize the image to 200x200 pixels\n",
    "        img_array = cv2.resize(img_array, IMAGE_SIZE)\n",
    "        \n",
    "        # Flatten the pixel values and convert them to comma-separated string\n",
    "        row_data = \",\".join(map(str, img_array.flatten().tolist()))\n",
    "        \n",
    "        # Write label (0 for newly converted images) and pixel values to the CSV file\n",
    "        f.write(f\"2,{row_data}\\n\")\n",
    "\n",
    "print(\"Images converted and appended to the CSV file successfully.\")\n"
   ]
  }
 ],
 "metadata": {
  "kernelspec": {
   "display_name": "Python 3",
   "language": "python",
   "name": "python3"
  },
  "language_info": {
   "codemirror_mode": {
    "name": "ipython",
    "version": 3
   },
   "file_extension": ".py",
   "mimetype": "text/x-python",
   "name": "python",
   "nbconvert_exporter": "python",
   "pygments_lexer": "ipython3",
   "version": "3.10.1"
  }
 },
 "nbformat": 4,
 "nbformat_minor": 2
}
